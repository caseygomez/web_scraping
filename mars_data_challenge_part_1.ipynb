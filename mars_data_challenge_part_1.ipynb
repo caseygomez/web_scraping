{
 "cells": [
  {
   "cell_type": "code",
   "execution_count": 42,
   "id": "79dea2b7",
   "metadata": {},
   "outputs": [],
   "source": [
    "from splinter import Browser\n",
    "from bs4 import BeautifulSoup as soup\n",
    "from webdriver_manager.chrome import ChromeDriverManager"
   ]
  },
  {
   "cell_type": "markdown",
   "id": "e95b8dd0",
   "metadata": {},
   "source": [
    "#Setup Splinter \n",
    "executable_path = {'executable_path': ChromeDriverManager().install()}\n",
    "browser = Browser('chrome', **executable_path, headless=False)"
   ]
  },
  {
   "cell_type": "code",
   "execution_count": null,
   "id": "cd7d5a7b",
   "metadata": {},
   "outputs": [],
   "source": [
    "# Visit the Mars NASA news site\n",
    "url = 'https://redplanetscience.com/'\n",
    "browser.visit(url)"
   ]
  },
  {
   "cell_type": "code",
   "execution_count": null,
   "id": "f7c1f271",
   "metadata": {},
   "outputs": [],
   "source": [
    "html = browser.html\n",
    "news_soup = soup(html, 'html.parser')\n",
    "slide_elements = news_soup.select('div.list_text')"
   ]
  },
  {
   "cell_type": "code",
   "execution_count": null,
   "id": "dc5c4fb9",
   "metadata": {},
   "outputs": [],
   "source": [
    "# Find and store all news article titles and preview texts\n",
    "mars_list = []\n",
    "for elem in slide_elements:\n",
    "    # Use the parent element to find the news article title\n",
    "    title = elem.find('div', class_='content_title').text\n",
    "    # Use the parent element to find the preview text\n",
    "    preview = elem.find('div', class_='article_teaser_body').text\n",
    "    # Append each key-value pair to a list/dict\n",
    "    mars_list.append({'title': title, 'preview': preview})\n",
    "    \n",
    "print(mars_list)"
   ]
  },
  {
   "cell_type": "code",
   "execution_count": 41,
   "id": "9c5e2c72",
   "metadata": {},
   "outputs": [],
   "source": [
    "# export the dict into a JSON file\n",
    "import json \n",
    "\n",
    "with open(\"mars_news.json\", 'w', encoding='utf-8') as f:\n",
    "    json.dump(mars_list, f, ensure_ascii=False, indent=4)\n",
    "# close file (optional)\n",
    "f.close()"
   ]
  },
  {
   "cell_type": "code",
   "execution_count": null,
   "id": "2fc77066",
   "metadata": {},
   "outputs": [],
   "source": []
  },
  {
   "cell_type": "code",
   "execution_count": null,
   "id": "f844dc4c",
   "metadata": {},
   "outputs": [],
   "source": [
    "#Practice below"
   ]
  },
  {
   "cell_type": "code",
   "execution_count": 18,
   "id": "d70e89be",
   "metadata": {},
   "outputs": [
    {
     "name": "stdout",
     "output_type": "stream",
     "text": [
      "[<div class=\"content_title\">Mars Helicopter Attached to NASA's Perseverance Rover</div>, <div class=\"content_title\">A Martian Roundtrip: NASA's Perseverance Rover Sample Tubes</div>, <div class=\"content_title\">Alabama High School Student Names NASA's Mars Helicopter</div>, <div class=\"content_title\">NASA's Mars Reconnaissance Orbiter Undergoes Memory Update</div>, <div class=\"content_title\">HiRISE Views NASA's InSight and Curiosity on Mars</div>, <div class=\"content_title\">NASA Engineers Checking InSight's Weather Sensors</div>, <div class=\"content_title\">NASA to Reveal Name of Its Next Mars Rover</div>, <div class=\"content_title\">NASA's MAVEN Explores Mars to Understand Radio Interference at Earth</div>, <div class=\"content_title\">NASA's New Mars Rover Is Ready for Space Lasers</div>, <div class=\"content_title\">Heat and Dust Help Launch Martian Water Into Space, Scientists Find</div>, <div class=\"content_title\">NASA's Mars Rover Drivers Need Your Help</div>, <div class=\"content_title\">NASA Prepares for Moon and Mars With New Addition to Its Deep Space Network</div>, <div class=\"content_title\">Nine Finalists Chosen in NASA's Mars 2020 Rover Naming Contest</div>, <div class=\"content_title\">Virginia Middle School Student Earns Honor of Naming NASA's Next Mars Rover</div>, <div class=\"content_title\">NASA's Curiosity Keeps Rolling As Team Operates Rover From Home</div>]\n"
     ]
    }
   ],
   "source": [
    "#Collect Titles \n",
    "all_titles = news_soup.find_all('div', class_='content_title')\n",
    "print(all_titles)"
   ]
  },
  {
   "cell_type": "code",
   "execution_count": 26,
   "id": "9bafed58",
   "metadata": {},
   "outputs": [
    {
     "data": {
      "text/plain": [
       "[\"Mars Helicopter Attached to NASA's Perseverance Rover\",\n",
       " \"A Martian Roundtrip: NASA's Perseverance Rover Sample Tubes\",\n",
       " \"Alabama High School Student Names NASA's Mars Helicopter\",\n",
       " \"NASA's Mars Reconnaissance Orbiter Undergoes Memory Update\",\n",
       " \"HiRISE Views NASA's InSight and Curiosity on Mars\",\n",
       " \"NASA Engineers Checking InSight's Weather Sensors\",\n",
       " 'NASA to Reveal Name of Its Next Mars Rover',\n",
       " \"NASA's MAVEN Explores Mars to Understand Radio Interference at Earth\",\n",
       " \"NASA's New Mars Rover Is Ready for Space Lasers\",\n",
       " 'Heat and Dust Help Launch Martian Water Into Space, Scientists Find',\n",
       " \"NASA's Mars Rover Drivers Need Your Help\",\n",
       " 'NASA Prepares for Moon and Mars With New Addition to Its Deep Space Network',\n",
       " \"Nine Finalists Chosen in NASA's Mars 2020 Rover Naming Contest\",\n",
       " \"Virginia Middle School Student Earns Honor of Naming NASA's Next Mars Rover\",\n",
       " \"NASA's Curiosity Keeps Rolling As Team Operates Rover From Home\"]"
      ]
     },
     "execution_count": 26,
     "metadata": {},
     "output_type": "execute_result"
    }
   ],
   "source": [
    "titles = [title.text for title in all_titles]\n",
    "titles"
   ]
  },
  {
   "cell_type": "code",
   "execution_count": 27,
   "id": "beffed4f",
   "metadata": {},
   "outputs": [
    {
     "name": "stdout",
     "output_type": "stream",
     "text": [
      "[<div class=\"article_teaser_body\">The team also fueled the rover's sky crane to get ready for this summer's history-making launch.</div>, <div class=\"article_teaser_body\">Marvels of engineering, the rover's sample tubes must be tough enough to safely bring Red Planet samples on the long journey back to Earth in immaculate condition. </div>, <div class=\"article_teaser_body\">Vaneeza Rupani's essay was chosen as the name for the small spacecraft, which will mark NASA's first attempt at powered flight on another planet.</div>, <div class=\"article_teaser_body\">Other orbiters will continue relaying data from Mars surface missions for a two-week period.</div>, <div class=\"article_teaser_body\">New images taken from space offer the clearest orbital glimpse yet of InSight as well as a view of Curiosity rolling along.</div>, <div class=\"article_teaser_body\">An electronics issue is suspected to be preventing the sensors from sharing their data about Mars weather with the spacecraft.</div>, <div class=\"article_teaser_body\">After a months-long contest among students to name NASA's newest Mars rover, the agency will reveal the winning name — and the winning student — this Thursday. </div>, <div class=\"article_teaser_body\">NASA’s MAVEN spacecraft has discovered “layers” and “rifts” in the electrically charged part of the upper atmosphere of Mars.</div>, <div class=\"article_teaser_body\">Perseverance is one of a few Mars spacecraft carrying laser retroreflectors. The devices could provide new science and safer Mars landings in the future.</div>, <div class=\"article_teaser_body\">Scientists using an instrument aboard NASA’s Mars Atmosphere and Volatile EvolutioN, or MAVEN, spacecraft have discovered that water vapor near the surface of the Red Planet is lofted higher into the atmosphere than anyone expected was possible. </div>, <div class=\"article_teaser_body\">Using an online tool to label Martian terrain types, you can train an artificial intelligence algorithm that could improve the way engineers guide the Curiosity rover.</div>, <div class=\"article_teaser_body\">Robotic spacecraft will be able to communicate with the dish using radio waves and lasers.</div>, <div class=\"article_teaser_body\">Nine finalists have been chosen in the essay contest for K-12 students across U.S. to name NASA's next Mars rover. Now you can help by voting for your favorite. </div>, <div class=\"article_teaser_body\">NASA chose a seventh-grader from Virginia as winner of the agency's \"Name the Rover\" essay contest. Alexander Mather's entry for \"Perseverance\" was voted tops among 28,000 entries. </div>, <div class=\"article_teaser_body\">The team has learned to meet new challenges as they work remotely on the Mars mission.</div>]\n"
     ]
    }
   ],
   "source": [
    "# Collect Previews\n",
    "all_preview = news_soup.find_all('div', class_='article_teaser_body')\n",
    "print(all_preview)"
   ]
  },
  {
   "cell_type": "code",
   "execution_count": 28,
   "id": "03797f13",
   "metadata": {},
   "outputs": [
    {
     "data": {
      "text/plain": [
       "[\"The team also fueled the rover's sky crane to get ready for this summer's history-making launch.\",\n",
       " \"Marvels of engineering, the rover's sample tubes must be tough enough to safely bring Red Planet samples on the long journey back to Earth in immaculate condition. \",\n",
       " \"Vaneeza Rupani's essay was chosen as the name for the small spacecraft, which will mark NASA's first attempt at powered flight on another planet.\",\n",
       " 'Other orbiters will continue relaying data from Mars surface missions for a two-week period.',\n",
       " 'New images taken from space offer the clearest orbital glimpse yet of InSight as well as a view of Curiosity rolling along.',\n",
       " 'An electronics issue is suspected to be preventing the sensors from sharing their data about Mars weather with the spacecraft.',\n",
       " \"After a months-long contest among students to name NASA's newest Mars rover, the agency will reveal the winning name — and the winning student — this Thursday. \",\n",
       " 'NASA’s MAVEN spacecraft has discovered “layers” and “rifts” in the electrically charged part of the upper atmosphere of Mars.',\n",
       " 'Perseverance is one of a few Mars spacecraft carrying laser retroreflectors. The devices could provide new science and safer Mars landings in the future.',\n",
       " 'Scientists using an instrument aboard NASA’s Mars Atmosphere and Volatile EvolutioN, or MAVEN, spacecraft have discovered that water vapor near the surface of the Red Planet is lofted higher into the atmosphere than anyone expected was possible. ',\n",
       " 'Using an online tool to label Martian terrain types, you can train an artificial intelligence algorithm that could improve the way engineers guide the Curiosity rover.',\n",
       " 'Robotic spacecraft will be able to communicate with the dish using radio waves and lasers.',\n",
       " \"Nine finalists have been chosen in the essay contest for K-12 students across U.S. to name NASA's next Mars rover. Now you can help by voting for your favorite. \",\n",
       " 'NASA chose a seventh-grader from Virginia as winner of the agency\\'s \"Name the Rover\" essay contest. Alexander Mather\\'s entry for \"Perseverance\" was voted tops among 28,000 entries. ',\n",
       " 'The team has learned to meet new challenges as they work remotely on the Mars mission.']"
      ]
     },
     "execution_count": 28,
     "metadata": {},
     "output_type": "execute_result"
    }
   ],
   "source": [
    "previews = [preview.text for preview in all_preview]\n",
    "previews"
   ]
  },
  {
   "cell_type": "code",
   "execution_count": 32,
   "id": "ad333d66",
   "metadata": {},
   "outputs": [
    {
     "data": {
      "text/plain": [
       "{\"Mars Helicopter Attached to NASA's Perseverance Rover\": \"The team also fueled the rover's sky crane to get ready for this summer's history-making launch.\",\n",
       " \"A Martian Roundtrip: NASA's Perseverance Rover Sample Tubes\": \"Marvels of engineering, the rover's sample tubes must be tough enough to safely bring Red Planet samples on the long journey back to Earth in immaculate condition. \",\n",
       " \"Alabama High School Student Names NASA's Mars Helicopter\": \"Vaneeza Rupani's essay was chosen as the name for the small spacecraft, which will mark NASA's first attempt at powered flight on another planet.\",\n",
       " \"NASA's Mars Reconnaissance Orbiter Undergoes Memory Update\": 'Other orbiters will continue relaying data from Mars surface missions for a two-week period.',\n",
       " \"HiRISE Views NASA's InSight and Curiosity on Mars\": 'New images taken from space offer the clearest orbital glimpse yet of InSight as well as a view of Curiosity rolling along.',\n",
       " \"NASA Engineers Checking InSight's Weather Sensors\": 'An electronics issue is suspected to be preventing the sensors from sharing their data about Mars weather with the spacecraft.',\n",
       " 'NASA to Reveal Name of Its Next Mars Rover': \"After a months-long contest among students to name NASA's newest Mars rover, the agency will reveal the winning name — and the winning student — this Thursday. \",\n",
       " \"NASA's MAVEN Explores Mars to Understand Radio Interference at Earth\": 'NASA’s MAVEN spacecraft has discovered “layers” and “rifts” in the electrically charged part of the upper atmosphere of Mars.',\n",
       " \"NASA's New Mars Rover Is Ready for Space Lasers\": 'Perseverance is one of a few Mars spacecraft carrying laser retroreflectors. The devices could provide new science and safer Mars landings in the future.',\n",
       " 'Heat and Dust Help Launch Martian Water Into Space, Scientists Find': 'Scientists using an instrument aboard NASA’s Mars Atmosphere and Volatile EvolutioN, or MAVEN, spacecraft have discovered that water vapor near the surface of the Red Planet is lofted higher into the atmosphere than anyone expected was possible. ',\n",
       " \"NASA's Mars Rover Drivers Need Your Help\": 'Using an online tool to label Martian terrain types, you can train an artificial intelligence algorithm that could improve the way engineers guide the Curiosity rover.',\n",
       " 'NASA Prepares for Moon and Mars With New Addition to Its Deep Space Network': 'Robotic spacecraft will be able to communicate with the dish using radio waves and lasers.',\n",
       " \"Nine Finalists Chosen in NASA's Mars 2020 Rover Naming Contest\": \"Nine finalists have been chosen in the essay contest for K-12 students across U.S. to name NASA's next Mars rover. Now you can help by voting for your favorite. \",\n",
       " \"Virginia Middle School Student Earns Honor of Naming NASA's Next Mars Rover\": 'NASA chose a seventh-grader from Virginia as winner of the agency\\'s \"Name the Rover\" essay contest. Alexander Mather\\'s entry for \"Perseverance\" was voted tops among 28,000 entries. ',\n",
       " \"NASA's Curiosity Keeps Rolling As Team Operates Rover From Home\": 'The team has learned to meet new challenges as they work remotely on the Mars mission.'}"
      ]
     },
     "execution_count": 32,
     "metadata": {},
     "output_type": "execute_result"
    }
   ],
   "source": [
    "#Convert Title and Preview lists to dictionary\n",
    "mars_dict = {}\n",
    "for title in titles:\n",
    "    for preview in previews:\n",
    "        mars_dict[title] = preview\n",
    "        previews.remove(preview)\n",
    "        break\n",
    "\n",
    "mars_dict"
   ]
  },
  {
   "cell_type": "code",
   "execution_count": null,
   "id": "d481bf9f",
   "metadata": {},
   "outputs": [],
   "source": []
  }
 ],
 "metadata": {
  "kernelspec": {
   "display_name": "PythonData",
   "language": "python",
   "name": "pythondata"
  },
  "language_info": {
   "codemirror_mode": {
    "name": "ipython",
    "version": 3
   },
   "file_extension": ".py",
   "mimetype": "text/x-python",
   "name": "python",
   "nbconvert_exporter": "python",
   "pygments_lexer": "ipython3",
   "version": "3.9.12"
  }
 },
 "nbformat": 4,
 "nbformat_minor": 5
}
