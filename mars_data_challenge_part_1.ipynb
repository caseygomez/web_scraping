{
 "cells": [
  {
   "cell_type": "code",
   "execution_count": 1,
   "id": "79dea2b7",
   "metadata": {},
   "outputs": [],
   "source": [
    "from splinter import Browser\n",
    "from bs4 import BeautifulSoup as soup\n",
    "from webdriver_manager.chrome import ChromeDriverManager"
   ]
  },
  {
   "cell_type": "code",
   "execution_count": 2,
   "id": "d7408e32",
   "metadata": {},
   "outputs": [],
   "source": [
    "#Setup Splinter \n",
    "executable_path = {'executable_path': ChromeDriverManager().install()}\n",
    "browser = Browser('chrome', **executable_path, headless=False)"
   ]
  },
  {
   "cell_type": "code",
   "execution_count": 3,
   "id": "cd7d5a7b",
   "metadata": {},
   "outputs": [],
   "source": [
    "# Visit the Mars NASA news site\n",
    "url = 'https://redplanetscience.com/'\n",
    "browser.visit(url)"
   ]
  },
  {
   "cell_type": "code",
   "execution_count": 4,
   "id": "f7c1f271",
   "metadata": {},
   "outputs": [],
   "source": [
    "html = browser.html\n",
    "news_soup = soup(html, 'html.parser')"
   ]
  },
  {
   "cell_type": "code",
   "execution_count": 5,
   "id": "d70e89be",
   "metadata": {},
   "outputs": [
    {
     "name": "stdout",
     "output_type": "stream",
     "text": [
      "[<div class=\"content_title\">NASA's MAVEN Explores Mars to Understand Radio Interference at Earth</div>, <div class=\"content_title\">Global Storms on Mars Launch Dust Towers Into the Sky</div>, <div class=\"content_title\">NASA Wins 4 Webbys, 4 People's Voice Awards</div>, <div class=\"content_title\">A Martian Roundtrip: NASA's Perseverance Rover Sample Tubes</div>, <div class=\"content_title\">NASA's Mars Rover Drivers Need Your Help</div>, <div class=\"content_title\">NASA's Mars 2020 Heads Into the Test Chamber</div>, <div class=\"content_title\">Mars 2020 Stands on Its Own Six Wheels</div>, <div class=\"content_title\">NASA's Perseverance Mars Rover Gets Balanced</div>, <div class=\"content_title\">NASA's Curiosity Takes Selfie With 'Mary Anning' on the Red Planet</div>, <div class=\"content_title\">How NASA's Mars Helicopter Will Reach the Red Planet's Surface</div>, <div class=\"content_title\">Mars Scientists Investigate Ancient Life in Australia</div>, <div class=\"content_title\">NASA, ULA Launch Mars 2020 Perseverance Rover Mission to Red Planet</div>, <div class=\"content_title\">NASA's Mars 2020 Rover Closer to Getting Its Name</div>, <div class=\"content_title\">NASA's Mars 2020 Will Hunt for Microscopic Fossils</div>, <div class=\"content_title\">The Man Who Wanted to Fly on Mars</div>]\n"
     ]
    }
   ],
   "source": [
    "#Collect Titles \n",
    "all_titles = news_soup.find_all('div', class_='content_title')\n",
    "print(all_titles)"
   ]
  },
  {
   "cell_type": "code",
   "execution_count": 6,
   "id": "9bafed58",
   "metadata": {},
   "outputs": [
    {
     "data": {
      "text/plain": [
       "[\"NASA's MAVEN Explores Mars to Understand Radio Interference at Earth\",\n",
       " 'Global Storms on Mars Launch Dust Towers Into the Sky',\n",
       " \"NASA Wins 4 Webbys, 4 People's Voice Awards\",\n",
       " \"A Martian Roundtrip: NASA's Perseverance Rover Sample Tubes\",\n",
       " \"NASA's Mars Rover Drivers Need Your Help\",\n",
       " \"NASA's Mars 2020 Heads Into the Test Chamber\",\n",
       " 'Mars 2020 Stands on Its Own Six Wheels',\n",
       " \"NASA's Perseverance Mars Rover Gets Balanced\",\n",
       " \"NASA's Curiosity Takes Selfie With 'Mary Anning' on the Red Planet\",\n",
       " \"How NASA's Mars Helicopter Will Reach the Red Planet's Surface\",\n",
       " 'Mars Scientists Investigate Ancient Life in Australia',\n",
       " 'NASA, ULA Launch Mars 2020 Perseverance Rover Mission to Red Planet',\n",
       " \"NASA's Mars 2020 Rover Closer to Getting Its Name\",\n",
       " \"NASA's Mars 2020 Will Hunt for Microscopic Fossils\",\n",
       " 'The Man Who Wanted to Fly on Mars']"
      ]
     },
     "execution_count": 6,
     "metadata": {},
     "output_type": "execute_result"
    }
   ],
   "source": [
    "titles = [title.text for title in all_titles]\n",
    "titles"
   ]
  },
  {
   "cell_type": "code",
   "execution_count": 7,
   "id": "beffed4f",
   "metadata": {},
   "outputs": [
    {
     "name": "stdout",
     "output_type": "stream",
     "text": [
      "[<div class=\"article_teaser_body\">NASA’s MAVEN spacecraft has discovered “layers” and “rifts” in the electrically charged part of the upper atmosphere of Mars.</div>, <div class=\"article_teaser_body\">A Mars Dust Tower Stands Out Dust storms are common on Mars. But every decade or so, something unpredictable happens: a series of runaway storms break out, covering the entire planet in a dusty haze.</div>, <div class=\"article_teaser_body\">Winners include the JPL-managed \"Send Your Name to Mars\" campaign, NASA's Global Climate Change website and Solar System Interactive.</div>, <div class=\"article_teaser_body\">Marvels of engineering, the rover's sample tubes must be tough enough to safely bring Red Planet samples on the long journey back to Earth in immaculate condition. </div>, <div class=\"article_teaser_body\">Using an online tool to label Martian terrain types, you can train an artificial intelligence algorithm that could improve the way engineers guide the Curiosity rover.</div>, <div class=\"article_teaser_body\">In this time-lapse video taken at JPL, engineers move the Mars 2020 rover into a large vacuum chamber for testing in Mars-like environmental conditions.</div>, <div class=\"article_teaser_body\">In time-lapse video, taken at JPL, captures the first time NASA's Mars 2020 rover carries its full weight on its legs and wheels.</div>, <div class=\"article_teaser_body\">The mission team performed a crucial weight-balancing test on the rover in preparation for this summer's history-making launch to the Red Planet.</div>, <div class=\"article_teaser_body\">The Mars rover has drilled three samples of rock in this clay-enriched region since arriving in July.</div>, <div class=\"article_teaser_body\">The small craft will seek to prove that powered, controlled flight is possible on another planet. But just getting it onto the surface of Mars will take a whole lot of ingenuity.</div>, <div class=\"article_teaser_body\">Teams with NASA's Mars 2020 and ESA's ExoMars practiced hunting for fossilized microbial life in the Australian Outback in preparation for their Red Planet missions. </div>, <div class=\"article_teaser_body\">The agency's Mars 2020 mission is on its way. It will land at Jezero Crater in about seven months, on Feb. 18, 2021. </div>, <div class=\"article_teaser_body\">155 students from across the U.S. have been chosen as semifinalists in NASA's essay contest to name the Mars 2020 rover, and see it launch from Cape Canaveral this July.</div>, <div class=\"article_teaser_body\">A new paper identifies a ring of minerals at the rover's landing site that are ideal for fossilizing microbial life.</div>, <div class=\"article_teaser_body\">The Mars Helicopter is riding to the Red Planet this summer with NASA's Perseverance rover. The helicopter's chief engineer, Bob Balaram, shares the saga of how it came into being.</div>]\n"
     ]
    }
   ],
   "source": [
    "# Collect Previews\n",
    "all_preview = news_soup.find_all('div', class_='article_teaser_body')\n",
    "print(all_preview)"
   ]
  },
  {
   "cell_type": "code",
   "execution_count": 11,
   "id": "03797f13",
   "metadata": {},
   "outputs": [
    {
     "data": {
      "text/plain": [
       "['NASA’s MAVEN spacecraft has discovered “layers” and “rifts” in the electrically charged part of the upper atmosphere of Mars.',\n",
       " 'A Mars Dust Tower Stands Out Dust storms are common on Mars. But every decade or so, something unpredictable happens: a series of runaway storms break out, covering the entire planet in a dusty haze.',\n",
       " 'Winners include the JPL-managed \"Send Your Name to Mars\" campaign, NASA\\'s Global Climate Change website and Solar System Interactive.',\n",
       " \"Marvels of engineering, the rover's sample tubes must be tough enough to safely bring Red Planet samples on the long journey back to Earth in immaculate condition. \",\n",
       " 'Using an online tool to label Martian terrain types, you can train an artificial intelligence algorithm that could improve the way engineers guide the Curiosity rover.',\n",
       " 'In this time-lapse video taken at JPL, engineers move the Mars 2020 rover into a large vacuum chamber for testing in Mars-like environmental conditions.',\n",
       " \"In time-lapse video, taken at JPL, captures the first time NASA's Mars 2020 rover carries its full weight on its legs and wheels.\",\n",
       " \"The mission team performed a crucial weight-balancing test on the rover in preparation for this summer's history-making launch to the Red Planet.\",\n",
       " 'The Mars rover has drilled three samples of rock in this clay-enriched region since arriving in July.',\n",
       " 'The small craft will seek to prove that powered, controlled flight is possible on another planet. But just getting it onto the surface of Mars will take a whole lot of ingenuity.',\n",
       " \"Teams with NASA's Mars 2020 and ESA's ExoMars practiced hunting for fossilized microbial life in the Australian Outback in preparation for their Red Planet missions. \",\n",
       " \"The agency's Mars 2020 mission is on its way. It will land at Jezero Crater in about seven months, on Feb. 18, 2021. \",\n",
       " \"155 students from across the U.S. have been chosen as semifinalists in NASA's essay contest to name the Mars 2020 rover, and see it launch from Cape Canaveral this July.\",\n",
       " \"A new paper identifies a ring of minerals at the rover's landing site that are ideal for fossilizing microbial life.\",\n",
       " \"The Mars Helicopter is riding to the Red Planet this summer with NASA's Perseverance rover. The helicopter's chief engineer, Bob Balaram, shares the saga of how it came into being.\"]"
      ]
     },
     "execution_count": 11,
     "metadata": {},
     "output_type": "execute_result"
    }
   ],
   "source": [
    "previews = [preview.text for preview in all_preview]\n",
    "previews"
   ]
  },
  {
   "cell_type": "code",
   "execution_count": 13,
   "id": "ad333d66",
   "metadata": {},
   "outputs": [
    {
     "data": {
      "text/plain": [
       "{\"NASA's MAVEN Explores Mars to Understand Radio Interference at Earth\": 'NASA’s MAVEN spacecraft has discovered “layers” and “rifts” in the electrically charged part of the upper atmosphere of Mars.',\n",
       " 'Global Storms on Mars Launch Dust Towers Into the Sky': 'A Mars Dust Tower Stands Out Dust storms are common on Mars. But every decade or so, something unpredictable happens: a series of runaway storms break out, covering the entire planet in a dusty haze.',\n",
       " \"NASA Wins 4 Webbys, 4 People's Voice Awards\": 'Winners include the JPL-managed \"Send Your Name to Mars\" campaign, NASA\\'s Global Climate Change website and Solar System Interactive.',\n",
       " \"A Martian Roundtrip: NASA's Perseverance Rover Sample Tubes\": \"Marvels of engineering, the rover's sample tubes must be tough enough to safely bring Red Planet samples on the long journey back to Earth in immaculate condition. \",\n",
       " \"NASA's Mars Rover Drivers Need Your Help\": 'Using an online tool to label Martian terrain types, you can train an artificial intelligence algorithm that could improve the way engineers guide the Curiosity rover.',\n",
       " \"NASA's Mars 2020 Heads Into the Test Chamber\": 'In this time-lapse video taken at JPL, engineers move the Mars 2020 rover into a large vacuum chamber for testing in Mars-like environmental conditions.',\n",
       " 'Mars 2020 Stands on Its Own Six Wheels': \"In time-lapse video, taken at JPL, captures the first time NASA's Mars 2020 rover carries its full weight on its legs and wheels.\",\n",
       " \"NASA's Perseverance Mars Rover Gets Balanced\": \"The mission team performed a crucial weight-balancing test on the rover in preparation for this summer's history-making launch to the Red Planet.\",\n",
       " \"NASA's Curiosity Takes Selfie With 'Mary Anning' on the Red Planet\": 'The Mars rover has drilled three samples of rock in this clay-enriched region since arriving in July.',\n",
       " \"How NASA's Mars Helicopter Will Reach the Red Planet's Surface\": 'The small craft will seek to prove that powered, controlled flight is possible on another planet. But just getting it onto the surface of Mars will take a whole lot of ingenuity.',\n",
       " 'Mars Scientists Investigate Ancient Life in Australia': \"Teams with NASA's Mars 2020 and ESA's ExoMars practiced hunting for fossilized microbial life in the Australian Outback in preparation for their Red Planet missions. \",\n",
       " 'NASA, ULA Launch Mars 2020 Perseverance Rover Mission to Red Planet': \"The agency's Mars 2020 mission is on its way. It will land at Jezero Crater in about seven months, on Feb. 18, 2021. \",\n",
       " \"NASA's Mars 2020 Rover Closer to Getting Its Name\": \"155 students from across the U.S. have been chosen as semifinalists in NASA's essay contest to name the Mars 2020 rover, and see it launch from Cape Canaveral this July.\",\n",
       " \"NASA's Mars 2020 Will Hunt for Microscopic Fossils\": \"A new paper identifies a ring of minerals at the rover's landing site that are ideal for fossilizing microbial life.\",\n",
       " 'The Man Who Wanted to Fly on Mars': \"The Mars Helicopter is riding to the Red Planet this summer with NASA's Perseverance rover. The helicopter's chief engineer, Bob Balaram, shares the saga of how it came into being.\"}"
      ]
     },
     "execution_count": 13,
     "metadata": {},
     "output_type": "execute_result"
    }
   ],
   "source": [
    "#Convert Title and Preview lists to dictionary\n",
    "mars_dict = {}\n",
    "for title in titles:\n",
    "    for preview in previews:\n",
    "        mars_dict[title] = preview \n",
    "        previews.remove(preview)\n",
    "        break\n",
    "        \n",
    "mars_dict"
   ]
  },
  {
   "cell_type": "code",
   "execution_count": 15,
   "id": "02d2970c",
   "metadata": {},
   "outputs": [],
   "source": [
    "#Export JSON File \n",
    "\n",
    "import json\n",
    "    \n",
    "with open(\"mars_news.json\", \"w\") as outfile:\n",
    "    json.dump(mars_dict, outfile)"
   ]
  },
  {
   "cell_type": "code",
   "execution_count": null,
   "id": "d481bf9f",
   "metadata": {},
   "outputs": [],
   "source": []
  }
 ],
 "metadata": {
  "kernelspec": {
   "display_name": "PythonData",
   "language": "python",
   "name": "pythondata"
  },
  "language_info": {
   "codemirror_mode": {
    "name": "ipython",
    "version": 3
   },
   "file_extension": ".py",
   "mimetype": "text/x-python",
   "name": "python",
   "nbconvert_exporter": "python",
   "pygments_lexer": "ipython3",
   "version": "3.9.12"
  }
 },
 "nbformat": 4,
 "nbformat_minor": 5
}
